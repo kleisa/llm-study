{
 "cells": [
  {
   "cell_type": "code",
   "execution_count": 14,
   "id": "a517e629-8bc0-423f-b1a2-eefa5c586a55",
   "metadata": {},
   "outputs": [],
   "source": [
    "import openai"
   ]
  },
  {
   "cell_type": "code",
   "execution_count": 15,
   "id": "ff15f30b-81ef-43fe-b094-1a8a5ac17ec4",
   "metadata": {},
   "outputs": [],
   "source": [
    "from openai import OpenAI"
   ]
  },
  {
   "cell_type": "code",
   "execution_count": 16,
   "id": "cf1ca72b-0bb2-48d2-80c8-0710d8f05b2c",
   "metadata": {},
   "outputs": [],
   "source": [
    "client = OpenAI(api_key=\"sk-KdS9OLX0k6ViPLPXm5MpljfDIn7xunAXMLJLLU5evN69feuY\",\n",
    "    base_url=\"https://api.chatanywhere.tech/v1\")"
   ]
  },
  {
   "cell_type": "code",
   "execution_count": 19,
   "id": "d932f9dc-5458-492f-9587-59b41b98dcd1",
   "metadata": {},
   "outputs": [],
   "source": [
    "import os"
   ]
  },
  {
   "cell_type": "code",
   "execution_count": 20,
   "id": "8ec51784-7321-4afb-8f90-517371a8a092",
   "metadata": {},
   "outputs": [],
   "source": [
    "response = client.chat.completions.create(\n",
    "    model='gpt-3.5-turbo',\n",
    "    messages=[{\"role\":\"user\",\"content\":\"is it too late to join this course?\"}]\n",
    ")"
   ]
  },
  {
   "cell_type": "code",
   "execution_count": 24,
   "id": "b0da011b-03e5-415b-8aa5-1001857e3d63",
   "metadata": {},
   "outputs": [
    {
     "data": {
      "text/plain": [
       "'It depends on the specific course and its enrollment policies. It is best to check with the course provider or institution to see if you can still join.'"
      ]
     },
     "execution_count": 24,
     "metadata": {},
     "output_type": "execute_result"
    }
   ],
   "source": [
    "response.choices[0].message.content"
   ]
  },
  {
   "cell_type": "code",
   "execution_count": null,
   "id": "6989d7c3-0abe-4e07-b7b0-99246079f87b",
   "metadata": {},
   "outputs": [],
   "source": []
  }
 ],
 "metadata": {
  "kernelspec": {
   "display_name": "Python 3 (ipykernel)",
   "language": "python",
   "name": "python3"
  },
  "language_info": {
   "codemirror_mode": {
    "name": "ipython",
    "version": 3
   },
   "file_extension": ".py",
   "mimetype": "text/x-python",
   "name": "python",
   "nbconvert_exporter": "python",
   "pygments_lexer": "ipython3",
   "version": "3.10.13"
  }
 },
 "nbformat": 4,
 "nbformat_minor": 5
}
